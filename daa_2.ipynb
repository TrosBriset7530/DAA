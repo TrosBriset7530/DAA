{
  "nbformat": 4,
  "nbformat_minor": 0,
  "metadata": {
    "colab": {
      "provenance": []
    },
    "kernelspec": {
      "name": "python3",
      "display_name": "Python 3"
    },
    "language_info": {
      "name": "python"
    }
  },
  "cells": [
    {
      "cell_type": "markdown",
      "source": [
        "***DAA-2***"
      ],
      "metadata": {
        "id": "fcK_pgqznKom"
      }
    },
    {
      "cell_type": "code",
      "execution_count": null,
      "metadata": {
        "colab": {
          "base_uri": "https://localhost:8080/"
        },
        "id": "Kl9RNBNGnEn4",
        "outputId": "69424e37-f33a-4446-f7c0-98476d5163cb"
      },
      "outputs": [
        {
          "output_type": "stream",
          "name": "stdout",
          "text": [
            "21\n"
          ]
        }
      ],
      "source": [
        "import numpy as np\n",
        "\n",
        "def add(a,b):\n",
        "  result = a+b\n",
        "  x = 0\n",
        "  for i in result:\n",
        "    x += i\n",
        "  return x\n",
        "a = [1, 2, 3]\n",
        "b = [4, 5, 6]\n",
        "print(add(a,b));"
      ]
    },
    {
      "cell_type": "markdown",
      "source": [
        "NEXT"
      ],
      "metadata": {
        "id": "4W-iiR2jzBnV"
      }
    },
    {
      "cell_type": "code",
      "source": [
        "import numpy as np\n",
        "nilai_siswa = np.array([85, 55, 40, 90])\n",
        "x = 0\n",
        "for i in nilai_siswa:\n",
        "  x+=i\n",
        "  print(x)"
      ],
      "metadata": {
        "colab": {
          "base_uri": "https://localhost:8080/"
        },
        "id": "qJttuq3azAre",
        "outputId": "2c6d2082-a8d2-4cbb-fb8d-9127457fc0dd"
      },
      "execution_count": null,
      "outputs": [
        {
          "output_type": "stream",
          "name": "stdout",
          "text": [
            "85\n",
            "140\n",
            "180\n",
            "270\n"
          ]
        }
      ]
    },
    {
      "cell_type": "markdown",
      "source": [
        "Python Ver"
      ],
      "metadata": {
        "id": "GfmOI5ywzqJ_"
      }
    },
    {
      "cell_type": "code",
      "source": [
        "import numpy as np\n",
        "print(np.__version__)"
      ],
      "metadata": {
        "colab": {
          "base_uri": "https://localhost:8080/"
        },
        "id": "Kvm_3n6ZzqcM",
        "outputId": "937c2a74-7f51-4c8a-c498-de145ef8a384"
      },
      "execution_count": null,
      "outputs": [
        {
          "output_type": "stream",
          "name": "stdout",
          "text": [
            "2.0.2\n"
          ]
        }
      ]
    },
    {
      "cell_type": "markdown",
      "source": [
        "Print"
      ],
      "metadata": {
        "id": "qIp6BVJE0GP1"
      }
    },
    {
      "cell_type": "code",
      "source": [
        "name = input(\"Nama anda\")\n",
        "NIM = input(\"Nim anda\")\n",
        "\n",
        "print(\"Nama anda\", name, \"dan NIM anda\", NIM)"
      ],
      "metadata": {
        "colab": {
          "base_uri": "https://localhost:8080/"
        },
        "id": "hiINSKSA0Ge_",
        "outputId": "6ed0073a-d867-4686-b978-9fcca30d3d3a"
      },
      "execution_count": null,
      "outputs": [
        {
          "output_type": "stream",
          "name": "stdout",
          "text": [
            "Nama andaRafael\n",
            "Nim anda2024071003\n",
            "Nama anda Rafael dan NIM anda 2024071003\n"
          ]
        }
      ]
    },
    {
      "cell_type": "code",
      "source": [
        "import numpy as np\n",
        "def add(a,b):\n",
        "  result = np.array([a+b])\n",
        "  x = np.sum(result)\n",
        "  return x\n",
        "\n",
        "a = [1, 2, 3]\n",
        "b = [4, 5, 6]\n",
        "print(add(a,b));"
      ],
      "metadata": {
        "colab": {
          "base_uri": "https://localhost:8080/"
        },
        "id": "lGpncsxorqzK",
        "outputId": "17f67925-7478-4a37-bdad-98d0a296d9c5"
      },
      "execution_count": null,
      "outputs": [
        {
          "output_type": "stream",
          "name": "stdout",
          "text": [
            "21\n"
          ]
        }
      ]
    },
    {
      "cell_type": "markdown",
      "source": [],
      "metadata": {
        "id": "HFPRQstF1mD5"
      }
    },
    {
      "cell_type": "code",
      "source": [
        "if 5 > 2:\n",
        "  print(\"5 is Greater than 2\")\n"
      ],
      "metadata": {
        "colab": {
          "base_uri": "https://localhost:8080/"
        },
        "id": "0izE2wR71mc_",
        "outputId": "310cf843-d557-4cb1-e4be-152d292c0063"
      },
      "execution_count": null,
      "outputs": [
        {
          "output_type": "stream",
          "name": "stdout",
          "text": [
            "5 is Greater than 2\n"
          ]
        }
      ]
    },
    {
      "cell_type": "markdown",
      "source": [
        "JOHN"
      ],
      "metadata": {
        "id": "q1845h9_2Rd9"
      }
    },
    {
      "cell_type": "code",
      "source": [
        "x = 5\n",
        "y = 'john'\n",
        "print(x)\n",
        "print(y)\n"
      ],
      "metadata": {
        "colab": {
          "base_uri": "https://localhost:8080/"
        },
        "id": "Wf06rUcl2CTY",
        "outputId": "f9c0c79f-cfc4-4df0-ac68-4bc93c360988"
      },
      "execution_count": null,
      "outputs": [
        {
          "output_type": "stream",
          "name": "stdout",
          "text": [
            "5\n",
            "john\n"
          ]
        }
      ]
    },
    {
      "cell_type": "markdown",
      "source": [
        "sally"
      ],
      "metadata": {
        "id": "0c79GhOZ2Ymx"
      }
    },
    {
      "cell_type": "code",
      "source": [
        "x = 4\n",
        "x = \"sally\"\n",
        "print(x)"
      ],
      "metadata": {
        "colab": {
          "base_uri": "https://localhost:8080/"
        },
        "id": "zz2MU7Jv2Zzm",
        "outputId": "1a3bf0f2-a6f4-429f-e520-dcce19e59d67"
      },
      "execution_count": null,
      "outputs": [
        {
          "output_type": "stream",
          "name": "stdout",
          "text": [
            "sally\n"
          ]
        }
      ]
    },
    {
      "cell_type": "markdown",
      "source": [
        "get first"
      ],
      "metadata": {
        "id": "cu0i042H29Gj"
      }
    },
    {
      "cell_type": "code",
      "source": [
        "def getFirst(mylist):\n",
        "    return mylist[0]\n",
        "getFirst([1,2,3])\n"
      ],
      "metadata": {
        "colab": {
          "base_uri": "https://localhost:8080/"
        },
        "id": "xZumo0k32_BL",
        "outputId": "14e466ee-b4c7-4748-8c22-7c96f28cfc37"
      },
      "execution_count": null,
      "outputs": [
        {
          "output_type": "execute_result",
          "data": {
            "text/plain": [
              "1"
            ]
          },
          "metadata": {},
          "execution_count": 64
        }
      ]
    },
    {
      "cell_type": "markdown",
      "source": [
        "Get Last"
      ],
      "metadata": {
        "id": "WyUWO_im3Lky"
      }
    },
    {
      "cell_type": "code",
      "source": [
        "def getLast(a):\n",
        "    return a[len(a)-1]\n",
        "list=[2,6,7,4,3,21,23,10]\n",
        "getLast(list)"
      ],
      "metadata": {
        "colab": {
          "base_uri": "https://localhost:8080/"
        },
        "id": "3152NDOM3MkO",
        "outputId": "9038e023-c85a-4110-d21f-730a9f38c864"
      },
      "execution_count": null,
      "outputs": [
        {
          "output_type": "execute_result",
          "data": {
            "text/plain": [
              "10"
            ]
          },
          "metadata": {},
          "execution_count": 72
        }
      ]
    },
    {
      "cell_type": "code",
      "source": [
        "#Posisi Kedua\n",
        "def getSecond(mylist):\n",
        "    return mylist[1]\n",
        "getSecond([1,2,3])"
      ],
      "metadata": {
        "colab": {
          "base_uri": "https://localhost:8080/"
        },
        "id": "OBFecbBq5IBU",
        "outputId": "3473fb2c-395f-4457-a99e-adb72de333bd"
      },
      "execution_count": null,
      "outputs": [
        {
          "output_type": "execute_result",
          "data": {
            "text/plain": [
              "2"
            ]
          },
          "metadata": {},
          "execution_count": 73
        }
      ]
    },
    {
      "cell_type": "code",
      "source": [
        "def getSum(a):\n",
        "   Sum = 0\n",
        "   for i in a:\n",
        "    Sum+=i\n",
        "   return Sum\n",
        "X = [1,2,3,4,5,6]\n",
        "\n",
        "print(getSum(X))"
      ],
      "metadata": {
        "colab": {
          "base_uri": "https://localhost:8080/"
        },
        "id": "eyGoz8dVcqQr",
        "outputId": "8b054270-b2bc-4907-8bcd-edba381d4652"
      },
      "execution_count": null,
      "outputs": [
        {
          "output_type": "stream",
          "name": "stdout",
          "text": [
            "21\n"
          ]
        }
      ]
    },
    {
      "cell_type": "code",
      "source": [
        "def getKali(a):\n",
        "   Sum = 1\n",
        "   for i in a:\n",
        "    Sum *= i\n",
        "   return Sum\n",
        "X = [1,2,3,4,5,6]\n",
        "\n",
        "print(getKali(X))"
      ],
      "metadata": {
        "colab": {
          "base_uri": "https://localhost:8080/"
        },
        "id": "OwiFVMLmebsU",
        "outputId": "b42e61bd-fd05-4ae7-a8df-116b41286eae"
      },
      "execution_count": null,
      "outputs": [
        {
          "output_type": "stream",
          "name": "stdout",
          "text": [
            "720\n"
          ]
        }
      ]
    },
    {
      "cell_type": "code",
      "source": [
        "def getBagi(a):\n",
        "   Sum = 1\n",
        "   for i in a:\n",
        "    Sum /= i\n",
        "   return Sum\n",
        "X = [0.5,0.5,4]\n",
        "\n",
        "print(getBagi(X))"
      ],
      "metadata": {
        "colab": {
          "base_uri": "https://localhost:8080/"
        },
        "id": "Ucj1K2wre7q6",
        "outputId": "1381f502-01fd-4f53-d2bb-f8c074b5ef7e"
      },
      "execution_count": null,
      "outputs": [
        {
          "output_type": "stream",
          "name": "stdout",
          "text": [
            "1.0\n"
          ]
        }
      ]
    },
    {
      "cell_type": "code",
      "source": [
        "def getBagi2(a):\n",
        "   Sum = 1\n",
        "   for i in a:\n",
        "    for x in i:\n",
        "     Sum /= x\n",
        "   return Sum\n",
        "#X = [1,2,3,4,5,6]\n",
        "\n",
        "print(getBagi2([[8,2,2],[24,6,2]]))"
      ],
      "metadata": {
        "colab": {
          "base_uri": "https://localhost:8080/"
        },
        "id": "tsXrbHCWflTG",
        "outputId": "9e8ba0cb-a4f2-4d94-ce09-eeddc6af0592"
      },
      "execution_count": null,
      "outputs": [
        {
          "output_type": "stream",
          "name": "stdout",
          "text": [
            "0.00010850694444444444\n"
          ]
        }
      ]
    },
    {
      "cell_type": "code",
      "source": [
        "def getKurang(a):\n",
        "   Sum = 1\n",
        "   for i in a:\n",
        "    for x in i:\n",
        "     Sum -= x\n",
        "   return Sum\n",
        "#X = [1,2,3,4,5,6]\n",
        "\n",
        "print(getKurang([[8,2,2],[24,6,2]]))"
      ],
      "metadata": {
        "colab": {
          "base_uri": "https://localhost:8080/"
        },
        "id": "pKnOSgKVgEqg",
        "outputId": "e2546a65-61ee-4e3b-d52c-d66a18ef9647"
      },
      "execution_count": null,
      "outputs": [
        {
          "output_type": "stream",
          "name": "stdout",
          "text": [
            "-43\n"
          ]
        }
      ]
    }
  ]
}