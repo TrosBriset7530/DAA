{
 "cells": [
  {
   "cell_type": "markdown",
   "id": "9e0ec0cd",
   "metadata": {},
   "source": [
    "Divide et Impera"
   ]
  },
  {
   "cell_type": "code",
   "execution_count": 4,
   "id": "0a63c8b7",
   "metadata": {},
   "outputs": [
    {
     "ename": "IndexError",
     "evalue": "list index out of range",
     "output_type": "error",
     "traceback": [
      "\u001b[31m---------------------------------------------------------------------------\u001b[39m",
      "\u001b[31mIndexError\u001b[39m                                Traceback (most recent call last)",
      "\u001b[36mCell\u001b[39m\u001b[36m \u001b[39m\u001b[32mIn[4]\u001b[39m\u001b[32m, line 15\u001b[39m\n\u001b[32m     13\u001b[39m     \u001b[38;5;28;01mreturn\u001b[39;00m \u001b[38;5;28mmax\u001b[39m(left_sum + right_sum - arr[m], left_sum, right_sum)\n\u001b[32m     14\u001b[39m arr = [\u001b[32m0\u001b[39m,\u001b[32m12\u001b[39m,\u001b[32m3\u001b[39m,\u001b[32m4\u001b[39m,\u001b[32m53\u001b[39m,\u001b[32m26\u001b[39m,\u001b[32m99\u001b[39m,\u001b[32m14\u001b[39m]\n\u001b[32m---> \u001b[39m\u001b[32m15\u001b[39m \u001b[43mmaxing\u001b[49m\u001b[43m(\u001b[49m\u001b[43marr\u001b[49m\u001b[43m,\u001b[49m\u001b[43m \u001b[49m\u001b[32;43m8\u001b[39;49m\u001b[43m,\u001b[49m\u001b[43m \u001b[49m\u001b[32;43m12\u001b[39;49m\u001b[43m,\u001b[49m\u001b[43m \u001b[49m\u001b[32;43m0\u001b[39;49m\u001b[43m)\u001b[49m\n",
      "\u001b[36mCell\u001b[39m\u001b[36m \u001b[39m\u001b[32mIn[4]\u001b[39m\u001b[32m, line 4\u001b[39m, in \u001b[36mmaxing\u001b[39m\u001b[34m(arr, l, m, h)\u001b[39m\n\u001b[32m      2\u001b[39m sm = \u001b[32m0\u001b[39m;left_sum = -\u001b[32m10000\u001b[39m\n\u001b[32m      3\u001b[39m \u001b[38;5;28;01mfor\u001b[39;00m i \u001b[38;5;129;01min\u001b[39;00m \u001b[38;5;28mrange\u001b[39m(m,l-\u001b[32m1\u001b[39m,-\u001b[32m1\u001b[39m):\n\u001b[32m----> \u001b[39m\u001b[32m4\u001b[39m     sm += \u001b[43marr\u001b[49m\u001b[43m[\u001b[49m\u001b[43mi\u001b[49m\u001b[43m]\u001b[49m\n\u001b[32m      5\u001b[39m     \u001b[38;5;28;01mif\u001b[39;00m (sm > left_sum):\n\u001b[32m      6\u001b[39m         left_sum = sm\n",
      "\u001b[31mIndexError\u001b[39m: list index out of range"
     ]
    }
   ],
   "source": [
    "def maxing (arr, l,m,h):\n",
    "    sm = 0;left_sum = -10000\n",
    "    for i in range(m,l-1,-1):\n",
    "        sm += arr[i]\n",
    "        if (sm > left_sum):\n",
    "            left_sum = sm\n",
    "    sm = 0;right_sum = -1000\n",
    "    for i in range(m,h+1):\n",
    "        sm += arr[i]\n",
    "        if (sm > right_sum):\n",
    "            right_sum = sm\n",
    "    \n",
    "    return max(left_sum + right_sum - arr[m], left_sum, right_sum)\n",
    "arr = [0,12,3,4,53,26,99,14]\n",
    "maxing(arr, 8, 12, 0)"
   ]
  },
  {
   "cell_type": "markdown",
   "id": "854c2ad7",
   "metadata": {},
   "source": []
  },
  {
   "cell_type": "code",
   "execution_count": 38,
   "id": "c2522f02",
   "metadata": {},
   "outputs": [
    {
     "data": {
      "text/plain": [
       "195"
      ]
     },
     "execution_count": 38,
     "metadata": {},
     "output_type": "execute_result"
    }
   ],
   "source": [
    "def sumDQ(arr):\n",
    "    leng = len(arr)//2\n",
    "    sum_0 = 0\n",
    "    sum_1 = 0\n",
    "    for i in arr[:leng]:\n",
    "        sum_0 += i\n",
    "    for i in arr[leng:]:\n",
    "        sum_1 += i\n",
    "    return sum_0 + sum_1\n",
    "arr = [10,2,13,80,90]\n",
    "sumDQ(arr)\n",
    "    "
   ]
  },
  {
   "cell_type": "markdown",
   "id": "80cae381",
   "metadata": {},
   "source": []
  },
  {
   "cell_type": "code",
   "execution_count": null,
   "id": "56665641",
   "metadata": {},
   "outputs": [
    {
     "name": "stdout",
     "output_type": "stream",
     "text": [
      "10.75\n"
     ]
    }
   ],
   "source": []
  }
 ],
 "metadata": {
  "kernelspec": {
   "display_name": "Python 3",
   "language": "python",
   "name": "python3"
  },
  "language_info": {
   "codemirror_mode": {
    "name": "ipython",
    "version": 3
   },
   "file_extension": ".py",
   "mimetype": "text/x-python",
   "name": "python",
   "nbconvert_exporter": "python",
   "pygments_lexer": "ipython3",
   "version": "3.13.7"
  }
 },
 "nbformat": 4,
 "nbformat_minor": 5
}
