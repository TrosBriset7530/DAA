{
 "cells": [
  {
   "cell_type": "markdown",
   "id": "9e0ec0cd",
   "metadata": {},
   "source": [
    "Divide et Impera"
   ]
  },
  {
   "cell_type": "code",
   "execution_count": 78,
   "id": "0a63c8b7",
   "metadata": {},
   "outputs": [
    {
     "data": {
      "text/plain": [
       "211"
      ]
     },
     "execution_count": 78,
     "metadata": {},
     "output_type": "execute_result"
    }
   ],
   "source": [
    "def maxing (arr, l,m,h):\n",
    "    sm = 0;left_sum = -10000\n",
    "    for i in range(m,l-1,-1):\n",
    "        sm += arr[i]\n",
    "        if (sm > left_sum):\n",
    "            left_sum = sm\n",
    "    sm = 0;right_sum = -1000\n",
    "    for i in range(m,h+1):\n",
    "        sm += arr[i]\n",
    "        if (sm > right_sum):\n",
    "            right_sum = sm\n",
    "    \n",
    "    return max(left_sum + right_sum - arr[m], left_sum, right_sum)\n",
    "arr = [0,12,3,4,53,26,99,14]\n",
    "n = len(arr)\n",
    "m = len(arr) // 2\n",
    "maxing(arr, 0, m,n-1)"
   ]
  },
  {
   "cell_type": "markdown",
   "id": "854c2ad7",
   "metadata": {},
   "source": []
  },
  {
   "cell_type": "code",
   "execution_count": null,
   "id": "c2522f02",
   "metadata": {},
   "outputs": [
    {
     "name": "stdout",
     "output_type": "stream",
     "text": [
      "195 195\n"
     ]
    }
   ],
   "source": [
    "# SUMMING ARRAY\n",
    "def sumDQ(arr):\n",
    "    leng = len(arr)//2\n",
    "    sum_0 = 0\n",
    "    sum_1 = 0\n",
    "    for i in arr[:leng]:\n",
    "        sum_0 += i\n",
    "    for i in arr[leng:]:\n",
    "        sum_1 += i\n",
    "    return sum_0 + sum_1\n",
    "arr = [10,2,13,80,90]\n",
    "print(sum(arr),sumDQ(arr))\n",
    "    "
   ]
  },
  {
   "cell_type": "code",
   "execution_count": 68,
   "id": "52e9bdcd",
   "metadata": {},
   "outputs": [
    {
     "data": {
      "text/plain": [
       "('min =', 2, 'max =', 9)"
      ]
     },
     "execution_count": 68,
     "metadata": {},
     "output_type": "execute_result"
    }
   ],
   "source": [
    "def MinMax(arr):\n",
    "    leng = len(arr)//2\n",
    "    min_0 = arr[0];min_1 = arr[leng]\n",
    "    max_0 = arr[0];max_1 = arr[leng]\n",
    "    min = 0; max = 0\n",
    "    for i in arr[:leng]:\n",
    "        temp = i\n",
    "        if (min_0 > temp):\n",
    "            min_0 = i\n",
    "        if (max_0 < temp):\n",
    "            max_0 = i\n",
    "    for i in arr[leng:]:\n",
    "        min_1 = arr[leng]\n",
    "        max_1 = arr[leng]\n",
    "        temp = i\n",
    "        if (min_1 > temp):\n",
    "            min_1 = i\n",
    "        if (max_1 < temp):\n",
    "            max_1 = i\n",
    "    if (min_0 > min_1):\n",
    "        min = min_1\n",
    "    else:\n",
    "        min = min_0\n",
    "    if max_0 < max_1:\n",
    "       max = max_1\n",
    "    else:\n",
    "        max = max_0\n",
    "    return \"min =\", min, \"max =\", max\n",
    "arr = [2,3,4,7,9]\n",
    "MinMax(arr)"
   ]
  },
  {
   "cell_type": "code",
   "execution_count": 76,
   "id": "7e96df8f",
   "metadata": {},
   "outputs": [
    {
     "name": "stdout",
     "output_type": "stream",
     "text": [
      "1\n",
      "3\n",
      "5\n",
      "7\n",
      "9\n"
     ]
    }
   ],
   "source": [
    "# ganjil\n",
    "def ganjil(x):\n",
    "    for i in range(0,x):\n",
    "        if i % 2 == 1:\n",
    "              print(i)\n",
    "x = 10\n",
    "ganjil(x)"
   ]
  },
  {
   "cell_type": "markdown",
   "id": "80cae381",
   "metadata": {},
   "source": []
  },
  {
   "cell_type": "code",
   "execution_count": null,
   "id": "56665641",
   "metadata": {},
   "outputs": [
    {
     "name": "stdout",
     "output_type": "stream",
     "text": [
      "10.75\n"
     ]
    }
   ],
   "source": []
  }
 ],
 "metadata": {
  "kernelspec": {
   "display_name": "Python 3",
   "language": "python",
   "name": "python3"
  },
  "language_info": {
   "codemirror_mode": {
    "name": "ipython",
    "version": 3
   },
   "file_extension": ".py",
   "mimetype": "text/x-python",
   "name": "python",
   "nbconvert_exporter": "python",
   "pygments_lexer": "ipython3",
   "version": "3.13.7"
  }
 },
 "nbformat": 4,
 "nbformat_minor": 5
}
