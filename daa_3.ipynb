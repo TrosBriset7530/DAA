{
 "cells": [
  {
   "cell_type": "markdown",
   "id": "dd6fed1c",
   "metadata": {},
   "source": [
    "DAte + Mahasiswa array and array index"
   ]
  },
  {
   "cell_type": "code",
   "execution_count": 3,
   "id": "3fbd484e",
   "metadata": {},
   "outputs": [
    {
     "name": "stdout",
     "output_type": "stream",
     "text": [
      "['John', 33, 'Toronto', True]\n",
      "['Rafael Octo', 2024071003, 'Informatika', 'DAA', '15-09-2025', 'Universitas Pembangunan Jaya']\n",
      "2024071003\n"
     ]
    }
   ],
   "source": [
    "import datetime\n",
    "\n",
    "aList = [\"John\", 33, \"Toronto\", True]\n",
    "print(aList)\n",
    "\n",
    "x = datetime.date.today()\n",
    "date = x.strftime(\"%d-%m-%Y\")\n",
    "mahasiswa = [\"Rafael Octo\", 2024071003, \"Informatika\", \"DAA\", date, \"Universitas Pembangunan Jaya\"]\n",
    "print(mahasiswa)\n",
    "\n",
    "print(mahasiswa[1]) # NIM"
   ]
  },
  {
   "cell_type": "markdown",
   "id": "3db11ba3",
   "metadata": {},
   "source": [
    "Slicing & Iterate"
   ]
  },
  {
   "cell_type": "code",
   "execution_count": 11,
   "id": "7a6e7255",
   "metadata": {},
   "outputs": [
    {
     "name": "stdout",
     "output_type": "stream",
     "text": [
      "[2024071003, 'Informatika'] Slicing\n",
      "[] Slicing\n",
      "Rafael Octo UPJ\n",
      "2024071003 UPJ\n",
      "Informatika UPJ\n",
      "DAA UPJ\n",
      "15-09-2025 UPJ\n",
      "Universitas Pembangunan Jaya UPJ\n"
     ]
    }
   ],
   "source": [
    "print(mahasiswa[1:3], \"Slicing\") #Slicing\n",
    "print(mahasiswa[2:1], \"Slicing\") #Slicing\n",
    "\n",
    "for i in mahasiswa: #Iterasi\n",
    "    print(i, \"UPJ\")"
   ]
  },
  {
   "cell_type": "code",
   "execution_count": null,
   "id": "73d2236d",
   "metadata": {},
   "outputs": [
    {
     "name": "stdout",
     "output_type": "stream",
     "text": [
      "Red (Color)\n",
      "Green (Color)\n",
      "Blue (Color)\n",
      "yellow (Color)\n"
     ]
    }
   ],
   "source": [
    "color_tuple = [\"Red\", \"Green\", \"Blue\",\"yellow\"]\n",
    "for i in color_tuple:\n",
    "    print(i, \"Square\")"
   ]
  },
  {
   "cell_type": "markdown",
   "id": "3554a187",
   "metadata": {},
   "source": [
    "Tuple dan nested Tuple"
   ]
  },
  {
   "cell_type": "code",
   "execution_count": 20,
   "id": "15490a2e",
   "metadata": {},
   "outputs": [
    {
     "name": "stdout",
     "output_type": "stream",
     "text": [
      "Green\n"
     ]
    },
    {
     "data": {
      "text/plain": [
       "('Blue', 'yellow')"
      ]
     },
     "execution_count": 20,
     "metadata": {},
     "output_type": "execute_result"
    }
   ],
   "source": [
    "color_tuple = (\"Red\", \"Green\", \"Blue\",\"yellow\")\n",
    "print(color_tuple[1])\n",
    "color_tuple[2:]"
   ]
  },
  {
   "cell_type": "code",
   "execution_count": 24,
   "id": "3b8883b5",
   "metadata": {},
   "outputs": [
    {
     "name": "stdout",
     "output_type": "stream",
     "text": [
      "('Universitas', 'pembangunan jaya')\n",
      "200\n"
     ]
    }
   ],
   "source": [
    "# This is a tuple.\n",
    "upj = ('Universitas', 'pembangunan jaya')\n",
    "print(upj)\n",
    "\n",
    "# You can also have a tuple within another tuple.\n",
    "nested_tuple = (100, (200,400,600), 300, (400,800))\n",
    "print(nested_tuple[1][0]) # This will print '200' from the nested tuple"
   ]
  },
  {
   "cell_type": "markdown",
   "id": "d4076916",
   "metadata": {},
   "source": [
    "Dictionary"
   ]
  },
  {
   "cell_type": "code",
   "execution_count": 25,
   "id": "99cf5388",
   "metadata": {},
   "outputs": [
    {
     "name": "stdout",
     "output_type": "stream",
     "text": [
      "{'Manual_color': 'Yellow', 'Approved_color': 'Green', 'ReUsed_color': 'Red'}\n"
     ]
    }
   ],
   "source": [
    "bin_colors = {\n",
    " \"Manual_color\" : \"Yellow\",\n",
    " \"Approved_color\" : \"Green\",\n",
    " \"ReUsed_color\" : \"Red\",\n",
    "}\n",
    "print(bin_colors)"
   ]
  },
  {
   "cell_type": "code",
   "execution_count": 23,
   "id": "2ca8c4a4",
   "metadata": {},
   "outputs": [
    {
     "name": "stdout",
     "output_type": "stream",
     "text": [
      "{'nama': 'Rafael Octo', 'NIM': 2024071003, 'Prodi': 'Informatika', 'Universitas': 'UPJ'}\n"
     ]
    }
   ],
   "source": [
    "mahasiswa = {\n",
    "    \"nama\" : \"Rafael Octo\",\n",
    "    \"NIM\" : 2024071003,\n",
    "    \"Prodi\" : \"Informatika\",\n",
    "    \"Universitas\" : \"UPJ\",\n",
    "}\n",
    "print(mahasiswa)\n"
   ]
  },
  {
   "cell_type": "markdown",
   "id": "9c96e23a",
   "metadata": {},
   "source": [
    "Set Red dan Yellow"
   ]
  },
  {
   "cell_type": "code",
   "execution_count": 7,
   "id": "fe565a1b",
   "metadata": {},
   "outputs": [
    {
     "name": "stdout",
     "output_type": "stream",
     "text": [
      "{'leaves', 'blood', 'rose', 'fire hydrant', 'dandelion'}\n",
      "{'fire hydrant', 'leaves'}\n"
     ]
    }
   ],
   "source": [
    "red = {'blood', 'rose', 'fire hydrant', 'leaves'}\n",
    "yellow = {'dandelion', 'fire hydrant', 'leaves'}\n",
    "print(red|yellow) #union\n",
    "print(red&yellow) #intersection"
   ]
  },
  {
   "cell_type": "markdown",
   "id": "1cccd68c",
   "metadata": {},
   "source": [
    "DataFrames"
   ]
  },
  {
   "cell_type": "code",
   "execution_count": 24,
   "id": "1ccde330",
   "metadata": {},
   "outputs": [
    {
     "data": {
      "text/html": [
       "<div>\n",
       "<style scoped>\n",
       "    .dataframe tbody tr th:only-of-type {\n",
       "        vertical-align: middle;\n",
       "    }\n",
       "\n",
       "    .dataframe tbody tr th {\n",
       "        vertical-align: top;\n",
       "    }\n",
       "\n",
       "    .dataframe thead th {\n",
       "        text-align: right;\n",
       "    }\n",
       "</style>\n",
       "<table border=\"1\" class=\"dataframe\">\n",
       "  <thead>\n",
       "    <tr style=\"text-align: right;\">\n",
       "      <th></th>\n",
       "      <th>ID</th>\n",
       "      <th>Name</th>\n",
       "      <th>Age</th>\n",
       "      <th>Desicion</th>\n",
       "    </tr>\n",
       "  </thead>\n",
       "  <tbody>\n",
       "    <tr>\n",
       "      <th>0</th>\n",
       "      <td>1</td>\n",
       "      <td>Fares</td>\n",
       "      <td>32</td>\n",
       "      <td>True</td>\n",
       "    </tr>\n",
       "  </tbody>\n",
       "</table>\n",
       "</div>"
      ],
      "text/plain": [
       "   ID   Name  Age  Desicion\n",
       "0   1  Fares   32      True"
      ]
     },
     "execution_count": 24,
     "metadata": {},
     "output_type": "execute_result"
    }
   ],
   "source": [
    "# pandas has not been imported yet in previous cells, so we need to import it here\n",
    "import pandas as pd\n",
    "df = pd.DataFrame([\n",
    "    [1, 'Fares', 32, True],\n",
    "    [2, 'Elena', 23, False],\n",
    "    [3, 'Steven', 40, True]\n",
    "])\n",
    "df.columns = ['ID', 'Name', 'Age', 'Desicion']\n",
    "df[['Name','Age']]\n",
    "# df.iloc[0:3]\n",
    "# df[df.Age > 30]\n",
    "df[(df.Age<35)&(df.Desicion==True)]"
   ]
  },
  {
   "cell_type": "code",
   "execution_count": 22,
   "id": "4fb20dc2",
   "metadata": {},
   "outputs": [
    {
     "data": {
      "text/html": [
       "<div>\n",
       "<style scoped>\n",
       "    .dataframe tbody tr th:only-of-type {\n",
       "        vertical-align: middle;\n",
       "    }\n",
       "\n",
       "    .dataframe tbody tr th {\n",
       "        vertical-align: top;\n",
       "    }\n",
       "\n",
       "    .dataframe thead th {\n",
       "        text-align: right;\n",
       "    }\n",
       "</style>\n",
       "<table border=\"1\" class=\"dataframe\">\n",
       "  <thead>\n",
       "    <tr style=\"text-align: right;\">\n",
       "      <th></th>\n",
       "      <th>No</th>\n",
       "      <th>Prodi</th>\n",
       "      <th>Mahasiswa</th>\n",
       "      <th>Laki-laki</th>\n",
       "      <th>Perempuan</th>\n",
       "    </tr>\n",
       "  </thead>\n",
       "  <tbody>\n",
       "    <tr>\n",
       "      <th>0</th>\n",
       "      <td>1</td>\n",
       "      <td>Informatika</td>\n",
       "      <td>50</td>\n",
       "      <td>30</td>\n",
       "      <td>20</td>\n",
       "    </tr>\n",
       "    <tr>\n",
       "      <th>1</th>\n",
       "      <td>2</td>\n",
       "      <td>Sistem Informasi</td>\n",
       "      <td>50</td>\n",
       "      <td>30</td>\n",
       "      <td>25</td>\n",
       "    </tr>\n",
       "    <tr>\n",
       "      <th>2</th>\n",
       "      <td>3</td>\n",
       "      <td>Teknik Sipil</td>\n",
       "      <td>50</td>\n",
       "      <td>30</td>\n",
       "      <td>10</td>\n",
       "    </tr>\n",
       "  </tbody>\n",
       "</table>\n",
       "</div>"
      ],
      "text/plain": [
       "  No             Prodi  Mahasiswa  Laki-laki  Perempuan\n",
       "0  1       Informatika         50         30         20\n",
       "1  2  Sistem Informasi         50         30         25\n",
       "2  3      Teknik Sipil         50         30         10"
      ]
     },
     "execution_count": 22,
     "metadata": {},
     "output_type": "execute_result"
    }
   ],
   "source": [
    "DB_Mahasiswa = pd.DataFrame([\n",
    "    [\"1\", \"Informatika\", 50, 30, 20],\n",
    "    [\"2\", \"Sistem Informasi\", 50, 30, 25],\n",
    "    [\"3\", \"Teknik Sipil\", 50, 30, 10],\n",
    "])\n",
    "DB_Mahasiswa.columns = ['No', 'Prodi', 'Mahasiswa', 'Laki-laki', 'Perempuan']\n",
    "DB_Mahasiswa"
   ]
  },
  {
   "cell_type": "markdown",
   "id": "497c9c04",
   "metadata": {},
   "source": [
    "Matrix"
   ]
  },
  {
   "cell_type": "code",
   "execution_count": 25,
   "id": "9bb39ce9",
   "metadata": {},
   "outputs": [
    {
     "name": "stdout",
     "output_type": "stream",
     "text": [
      "[[1 2 3]\n",
      " [4 5 6]\n",
      " [7 8 9]]\n"
     ]
    }
   ],
   "source": [
    "import numpy as np\n",
    "myMatrix = np.array([[1, 2, 3], [4, 5, 6], [7, 8, 9]])\n",
    "print(myMatrix)"
   ]
  },
  {
   "cell_type": "code",
   "execution_count": 26,
   "id": "2a0280bb",
   "metadata": {},
   "outputs": [
    {
     "name": "stdout",
     "output_type": "stream",
     "text": [
      "<class 'numpy.ndarray'>\n"
     ]
    }
   ],
   "source": [
    "print(type(myMatrix))"
   ]
  },
  {
   "cell_type": "code",
   "execution_count": null,
   "id": "685e3302",
   "metadata": {},
   "outputs": [
    {
     "ename": "TypeError",
     "evalue": "only integer scalar arrays can be converted to a scalar index",
     "output_type": "error",
     "traceback": [
      "\u001b[31m---------------------------------------------------------------------------\u001b[39m",
      "\u001b[31mTypeError\u001b[39m                                 Traceback (most recent call last)",
      "\u001b[36mCell\u001b[39m\u001b[36m \u001b[39m\u001b[32mIn[52]\u001b[39m\u001b[32m, line 3\u001b[39m\n\u001b[32m      1\u001b[39m myMatrix = np.array([[\u001b[32m100\u001b[39m, \u001b[32m200\u001b[39m, \u001b[32m300\u001b[39m], [\u001b[32m400\u001b[39m, \u001b[32m500\u001b[39m, \u001b[32m600\u001b[39m], [\u001b[32m700\u001b[39m, \u001b[32m800\u001b[39m, \u001b[32m900\u001b[39m]])\n\u001b[32m      2\u001b[39m anArray = np.array([])\n\u001b[32m----> \u001b[39m\u001b[32m3\u001b[39m \u001b[38;5;28;01mfor\u001b[39;00m i \u001b[38;5;129;01min\u001b[39;00m \u001b[38;5;28;43mrange\u001b[39;49m\u001b[43m(\u001b[49m\u001b[43mmyMatrix\u001b[49m\u001b[43m)\u001b[49m:\n\u001b[32m      4\u001b[39m     \u001b[38;5;28;01mfor\u001b[39;00m j \u001b[38;5;129;01min\u001b[39;00m \u001b[38;5;28mrange\u001b[39m(myMatrix):\n\u001b[32m      5\u001b[39m         anArray = np.append(anArray, myMatrix[i][j])\n",
      "\u001b[31mTypeError\u001b[39m: only integer scalar arrays can be converted to a scalar index"
     ]
    }
   ],
   "source": [
    "myMatrix = np.array([[100, 200, 300], [400, 500, 600], [700, 800, 900]])\n",
    "anArray = np.array([])\n",
    "for i in Myma):\n",
    "    for j in range(myMatrix):\n",
    "        anArray = np.append(anArray, myMatrix[i][j])\n",
    "print(anArray)\n",
    "          "
   ]
  }
 ],
 "metadata": {
  "kernelspec": {
   "display_name": "Python 3",
   "language": "python",
   "name": "python3"
  },
  "language_info": {
   "codemirror_mode": {
    "name": "ipython",
    "version": 3
   },
   "file_extension": ".py",
   "mimetype": "text/x-python",
   "name": "python",
   "nbconvert_exporter": "python",
   "pygments_lexer": "ipython3",
   "version": "3.13.7"
  }
 },
 "nbformat": 4,
 "nbformat_minor": 5
}
