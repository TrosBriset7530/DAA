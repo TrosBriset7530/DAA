{
 "cells": [
  {
   "cell_type": "markdown",
   "id": "dd6fed1c",
   "metadata": {},
   "source": [
    "DAte + Mahasiswa array and array index"
   ]
  },
  {
   "cell_type": "code",
   "execution_count": 3,
   "id": "3fbd484e",
   "metadata": {},
   "outputs": [
    {
     "name": "stdout",
     "output_type": "stream",
     "text": [
      "['John', 33, 'Toronto', True]\n",
      "['Rafael Octo', 2024071003, 'Informatika', 'DAA', '15-09-2025', 'Universitas Pembangunan Jaya']\n",
      "2024071003\n"
     ]
    }
   ],
   "source": [
    "import datetime\n",
    "\n",
    "aList = [\"John\", 33, \"Toronto\", True]\n",
    "print(aList)\n",
    "\n",
    "x = datetime.date.today()\n",
    "date = x.strftime(\"%d-%m-%Y\")\n",
    "mahasiswa = [\"Rafael Octo\", 2024071003, \"Informatika\", \"DAA\", date, \"Universitas Pembangunan Jaya\"]\n",
    "print(mahasiswa)\n",
    "\n",
    "print(mahasiswa[1]) # NIM"
   ]
  },
  {
   "cell_type": "markdown",
   "id": "3db11ba3",
   "metadata": {},
   "source": [
    "Slicing & Iterate"
   ]
  },
  {
   "cell_type": "code",
   "execution_count": 11,
   "id": "7a6e7255",
   "metadata": {},
   "outputs": [
    {
     "name": "stdout",
     "output_type": "stream",
     "text": [
      "[2024071003, 'Informatika'] Slicing\n",
      "[] Slicing\n",
      "Rafael Octo UPJ\n",
      "2024071003 UPJ\n",
      "Informatika UPJ\n",
      "DAA UPJ\n",
      "15-09-2025 UPJ\n",
      "Universitas Pembangunan Jaya UPJ\n"
     ]
    }
   ],
   "source": [
    "print(mahasiswa[1:3], \"Slicing\") #Slicing\n",
    "print(mahasiswa[2:1], \"Slicing\") #Slicing\n",
    "\n",
    "for i in mahasiswa: #Iterasi\n",
    "    print(i, \"UPJ\")"
   ]
  },
  {
   "cell_type": "code",
   "execution_count": null,
   "id": "73d2236d",
   "metadata": {},
   "outputs": [
    {
     "name": "stdout",
     "output_type": "stream",
     "text": [
      "Red (Color)\n",
      "Green (Color)\n",
      "Blue (Color)\n",
      "yellow (Color)\n"
     ]
    }
   ],
   "source": [
    "color_tuple = [\"Red\", \"Green\", \"Blue\",\"yellow\"]\n",
    "for i in color_tuple:\n",
    "    print(i, \"Square\")"
   ]
  },
  {
   "cell_type": "markdown",
   "id": "3554a187",
   "metadata": {},
   "source": [
    "Tuple dan nested Tuple"
   ]
  },
  {
   "cell_type": "code",
   "execution_count": 20,
   "id": "15490a2e",
   "metadata": {},
   "outputs": [
    {
     "name": "stdout",
     "output_type": "stream",
     "text": [
      "Green\n"
     ]
    },
    {
     "data": {
      "text/plain": [
       "('Blue', 'yellow')"
      ]
     },
     "execution_count": 20,
     "metadata": {},
     "output_type": "execute_result"
    }
   ],
   "source": [
    "color_tuple = (\"Red\", \"Green\", \"Blue\",\"yellow\")\n",
    "print(color_tuple[1])\n",
    "color_tuple[2:]"
   ]
  },
  {
   "cell_type": "code",
   "execution_count": 24,
   "id": "3b8883b5",
   "metadata": {},
   "outputs": [
    {
     "name": "stdout",
     "output_type": "stream",
     "text": [
      "('Universitas', 'pembangunan jaya')\n",
      "200\n"
     ]
    }
   ],
   "source": [
    "# This is a tuple.\n",
    "upj = ('Universitas', 'pembangunan jaya')\n",
    "print(upj)\n",
    "\n",
    "# You can also have a tuple within another tuple.\n",
    "nested_tuple = (100, (200,400,600), 300, (400,800))\n",
    "print(nested_tuple[1][0]) # This will print '200' from the nested tuple"
   ]
  },
  {
   "cell_type": "markdown",
   "id": "d4076916",
   "metadata": {},
   "source": [
    "Dictionary"
   ]
  },
  {
   "cell_type": "code",
   "execution_count": 25,
   "id": "99cf5388",
   "metadata": {},
   "outputs": [
    {
     "name": "stdout",
     "output_type": "stream",
     "text": [
      "{'Manual_color': 'Yellow', 'Approved_color': 'Green', 'ReUsed_color': 'Red'}\n"
     ]
    }
   ],
   "source": [
    "bin_colors = {\n",
    " \"Manual_color\" : \"Yellow\",\n",
    " \"Approved_color\" : \"Green\",\n",
    " \"ReUsed_color\" : \"Red\",\n",
    "}\n",
    "print(bin_colors)"
   ]
  },
  {
   "cell_type": "code",
   "execution_count": 23,
   "id": "2ca8c4a4",
   "metadata": {},
   "outputs": [
    {
     "name": "stdout",
     "output_type": "stream",
     "text": [
      "{'nama': 'Rafael Octo', 'NIM': 2024071003, 'Prodi': 'Informatika', 'Universitas': 'UPJ'}\n"
     ]
    }
   ],
   "source": [
    "mahasiswa = {\n",
    "    \"nama\" : \"Rafael Octo\",\n",
    "    \"NIM\" : 2024071003,\n",
    "    \"Prodi\" : \"Informatika\",\n",
    "    \"Universitas\" : \"UPJ\",\n",
    "}\n",
    "print(mahasiswa)\n"
   ]
  },
  {
   "cell_type": "markdown",
   "id": "9c96e23a",
   "metadata": {},
   "source": [
    "Set Red dan Yellow"
   ]
  },
  {
   "cell_type": "code",
   "execution_count": 7,
   "id": "fe565a1b",
   "metadata": {},
   "outputs": [
    {
     "name": "stdout",
     "output_type": "stream",
     "text": [
      "{'leaves', 'blood', 'rose', 'fire hydrant', 'dandelion'}\n",
      "{'fire hydrant', 'leaves'}\n"
     ]
    }
   ],
   "source": [
    "red = {'blood', 'rose', 'fire hydrant', 'leaves'}\n",
    "yellow = {'dandelion', 'fire hydrant', 'leaves'}\n",
    "print(red|yellow) #union\n",
    "print(red&yellow) #intersection"
   ]
  },
  {
   "cell_type": "markdown",
   "id": "1cccd68c",
   "metadata": {},
   "source": [
    "DataFrames"
   ]
  },
  {
   "cell_type": "code",
   "execution_count": 2,
   "id": "1ccde330",
   "metadata": {},
   "outputs": [
    {
     "ename": "ModuleNotFoundError",
     "evalue": "No module named 'pandas'",
     "output_type": "error",
     "traceback": [
      "\u001b[31m---------------------------------------------------------------------------\u001b[39m",
      "\u001b[31mModuleNotFoundError\u001b[39m                       Traceback (most recent call last)",
      "\u001b[36mCell\u001b[39m\u001b[36m \u001b[39m\u001b[32mIn[2]\u001b[39m\u001b[32m, line 2\u001b[39m\n\u001b[32m      1\u001b[39m \u001b[38;5;66;03m# pandas has not been imported yet in previous cells, so we need to import it here\u001b[39;00m\n\u001b[32m----> \u001b[39m\u001b[32m2\u001b[39m \u001b[38;5;28;01mimport\u001b[39;00m\u001b[38;5;250m \u001b[39m\u001b[34;01mpandas\u001b[39;00m\u001b[38;5;250m \u001b[39m\u001b[38;5;28;01mas\u001b[39;00m\u001b[38;5;250m \u001b[39m\u001b[34;01mpd\u001b[39;00m\n\u001b[32m      3\u001b[39m df = pd.DataFrame([\n\u001b[32m      4\u001b[39m     [\u001b[32m1\u001b[39m, \u001b[33m'\u001b[39m\u001b[33mFares\u001b[39m\u001b[33m'\u001b[39m, \u001b[32m32\u001b[39m, \u001b[38;5;28;01mTrue\u001b[39;00m],\n\u001b[32m      5\u001b[39m     [\u001b[32m2\u001b[39m, \u001b[33m'\u001b[39m\u001b[33mElena\u001b[39m\u001b[33m'\u001b[39m, \u001b[32m23\u001b[39m, \u001b[38;5;28;01mFalse\u001b[39;00m],\n\u001b[32m      6\u001b[39m     [\u001b[32m3\u001b[39m, \u001b[33m'\u001b[39m\u001b[33mSteven\u001b[39m\u001b[33m'\u001b[39m, \u001b[32m40\u001b[39m, \u001b[38;5;28;01mTrue\u001b[39;00m]\n\u001b[32m      7\u001b[39m ])\n\u001b[32m      8\u001b[39m df.columns = [\u001b[33m'\u001b[39m\u001b[33mID\u001b[39m\u001b[33m'\u001b[39m, \u001b[33m'\u001b[39m\u001b[33mName\u001b[39m\u001b[33m'\u001b[39m, \u001b[33m'\u001b[39m\u001b[33mAge\u001b[39m\u001b[33m'\u001b[39m, \u001b[33m'\u001b[39m\u001b[33mDesicion\u001b[39m\u001b[33m'\u001b[39m]\n",
      "\u001b[31mModuleNotFoundError\u001b[39m: No module named 'pandas'"
     ]
    }
   ],
   "source": [
    "# pandas has not been imported yet in previous cells, so we need to import it here\n",
    "import pandas as pd\n",
    "df = pd.DataFrame([\n",
    "    [1, 'Fares', 32, True],\n",
    "    [2, 'Elena', 23, False],\n",
    "    [3, 'Steven', 40, True]\n",
    "])\n",
    "df.columns = ['ID', 'Name', 'Age', 'Desicion']\n",
    "df[['Name','Age']]\n",
    "# df.iloc[0:3]\n",
    "# df[df.Age > 30]\n",
    "df[(df.Age<35)&(df.Desicion==True)]"
   ]
  },
  {
   "cell_type": "code",
   "execution_count": 1,
   "id": "4fb20dc2",
   "metadata": {},
   "outputs": [
    {
     "ename": "NameError",
     "evalue": "name 'pd' is not defined",
     "output_type": "error",
     "traceback": [
      "\u001b[31m---------------------------------------------------------------------------\u001b[39m",
      "\u001b[31mNameError\u001b[39m                                 Traceback (most recent call last)",
      "\u001b[36mCell\u001b[39m\u001b[36m \u001b[39m\u001b[32mIn[1]\u001b[39m\u001b[32m, line 1\u001b[39m\n\u001b[32m----> \u001b[39m\u001b[32m1\u001b[39m DB_Mahasiswa = \u001b[43mpd\u001b[49m.DataFrame([\n\u001b[32m      2\u001b[39m     [\u001b[33m\"\u001b[39m\u001b[33m1\u001b[39m\u001b[33m\"\u001b[39m, \u001b[33m\"\u001b[39m\u001b[33mInformatika\u001b[39m\u001b[33m\"\u001b[39m, \u001b[32m50\u001b[39m, \u001b[32m30\u001b[39m, \u001b[32m20\u001b[39m],\n\u001b[32m      3\u001b[39m     [\u001b[33m\"\u001b[39m\u001b[33m2\u001b[39m\u001b[33m\"\u001b[39m, \u001b[33m\"\u001b[39m\u001b[33mSistem Informasi\u001b[39m\u001b[33m\"\u001b[39m, \u001b[32m50\u001b[39m, \u001b[32m30\u001b[39m, \u001b[32m25\u001b[39m],\n\u001b[32m      4\u001b[39m     [\u001b[33m\"\u001b[39m\u001b[33m3\u001b[39m\u001b[33m\"\u001b[39m, \u001b[33m\"\u001b[39m\u001b[33mTeknik Sipil\u001b[39m\u001b[33m\"\u001b[39m, \u001b[32m50\u001b[39m, \u001b[32m30\u001b[39m, \u001b[32m10\u001b[39m],\n\u001b[32m      5\u001b[39m ])\n\u001b[32m      6\u001b[39m DB_Mahasiswa.columns = [\u001b[33m'\u001b[39m\u001b[33mNo\u001b[39m\u001b[33m'\u001b[39m, \u001b[33m'\u001b[39m\u001b[33mProdi\u001b[39m\u001b[33m'\u001b[39m, \u001b[33m'\u001b[39m\u001b[33mMahasiswa\u001b[39m\u001b[33m'\u001b[39m, \u001b[33m'\u001b[39m\u001b[33mLaki-laki\u001b[39m\u001b[33m'\u001b[39m, \u001b[33m'\u001b[39m\u001b[33mPerempuan\u001b[39m\u001b[33m'\u001b[39m]\n\u001b[32m      7\u001b[39m DB_Mahasiswa\n",
      "\u001b[31mNameError\u001b[39m: name 'pd' is not defined"
     ]
    }
   ],
   "source": [
    "DB_Mahasiswa = pd.DataFrame([\n",
    "    [\"1\", \"Informatika\", 50, 30, 20],\n",
    "    [\"2\", \"Sistem Informasi\", 50, 30, 25],\n",
    "    [\"3\", \"Teknik Sipil\", 50, 30, 10],\n",
    "])\n",
    "DB_Mahasiswa.columns = ['No', 'Prodi', 'Mahasiswa', 'Laki-laki', 'Perempuan']\n",
    "DB_Mahasiswa"
   ]
  },
  {
   "cell_type": "markdown",
   "id": "497c9c04",
   "metadata": {},
   "source": [
    "Matrix"
   ]
  },
  {
   "cell_type": "code",
   "execution_count": 3,
   "id": "9bb39ce9",
   "metadata": {},
   "outputs": [
    {
     "name": "stdout",
     "output_type": "stream",
     "text": [
      "[[1 2 3]\n",
      " [4 5 6]\n",
      " [7 8 9]]\n"
     ]
    }
   ],
   "source": [
    "import numpy as np\n",
    "myMatrix = np.array([[1, 2, 3], [4, 5, 6], [7, 8, 9]])\n",
    "print(myMatrix)"
   ]
  },
  {
   "cell_type": "code",
   "execution_count": 26,
   "id": "2a0280bb",
   "metadata": {},
   "outputs": [
    {
     "name": "stdout",
     "output_type": "stream",
     "text": [
      "<class 'numpy.ndarray'>\n"
     ]
    }
   ],
   "source": [
    "print(type(myMatrix))"
   ]
  },
  {
   "cell_type": "markdown",
   "id": "2c630def",
   "metadata": {},
   "source": [
    "Transpose matrtix"
   ]
  },
  {
   "cell_type": "code",
   "execution_count": 23,
   "id": "685e3302",
   "metadata": {},
   "outputs": [
    {
     "name": "stdout",
     "output_type": "stream",
     "text": [
      "[[100 400 700]\n",
      " [200 500 800]\n",
      " [300 600 900]]\n"
     ]
    }
   ],
   "source": [
    "myMatrix = np.array([[100, 200, 300], [400, 500, 600], [700, 800, 900]])\n",
    "anArray = np.array([])\n",
    "for i in Myma:\n",
    "    for j in range(myMatrix):\n",
    "        anArray = np.append(anArray, myMatrix[i][j])\n",
    "print(anArray)\n",
    "          "
   ]
  }
 ],
 "metadata": {
  "kernelspec": {
   "display_name": "Python 3.12.3 64-bit",
   "language": "python",
   "name": "python3"
  },
  "language_info": {
   "codemirror_mode": {
    "name": "ipython",
    "version": 3
   },
   "file_extension": ".py",
   "mimetype": "text/x-python",
   "name": "python",
   "nbconvert_exporter": "python",
   "pygments_lexer": "ipython3",
   "version": "3.12.3"
  },
  "vscode": {
   "interpreter": {
    "hash": "32e8181fce7c3e359c2790b917cd539742ff129bf629b8ad82002a107951ad4e"
   }
  }
 },
 "nbformat": 4,
 "nbformat_minor": 5
}
