{
 "cells": [
  {
   "cell_type": "markdown",
   "id": "5d43d8cf",
   "metadata": {},
   "source": [
    "Swap"
   ]
  },
  {
   "cell_type": "code",
   "execution_count": 2,
   "id": "58b24545",
   "metadata": {},
   "outputs": [
    {
     "name": "stdout",
     "output_type": "stream",
     "text": [
      "2 1\n"
     ]
    }
   ],
   "source": [
    "import pandas as pd\n",
    "a = 1\n",
    "b = 2\n",
    "a,b = b,a\n",
    "\n",
    "print(a,b)"
   ]
  },
  {
   "cell_type": "code",
   "execution_count": 3,
   "id": "4b54a5e1",
   "metadata": {},
   "outputs": [
    {
     "name": "stdout",
     "output_type": "stream",
     "text": [
      "3 1 2\n"
     ]
    }
   ],
   "source": [
    "c = 3\n",
    "a,b,c = c,b,a\n",
    "print(a,b,c)"
   ]
  },
  {
   "cell_type": "markdown",
   "id": "754a00d3",
   "metadata": {},
   "source": [
    "buble sort"
   ]
  },
  {
   "cell_type": "code",
   "execution_count": 4,
   "id": "a4bb1461",
   "metadata": {},
   "outputs": [
    {
     "data": {
      "text/plain": [
       "[21, 22, 23, 24, 25, 26, 27]"
      ]
     },
     "execution_count": 4,
     "metadata": {},
     "output_type": "execute_result"
    }
   ],
   "source": [
    "list = [25,21,22,24,23,27,26]\n",
    "def BubleSort(x):\n",
    "    size  = len(x) - 1\n",
    "    for i in range(size, 0,-1):\n",
    "        for j in range(i):\n",
    "            if x[j] > x[j+1]:\n",
    "                x[j],x[j+1] = x[j+1], x[j]\n",
    "    return x\n",
    "BubleSort(list)"
   ]
  },
  {
   "cell_type": "code",
   "execution_count": 5,
   "id": "40743ef1",
   "metadata": {},
   "outputs": [
    {
     "data": {
      "text/plain": [
       "[10, 20, 30, 40, 60, 90, 100]"
      ]
     },
     "execution_count": 5,
     "metadata": {},
     "output_type": "execute_result"
    }
   ],
   "source": [
    "list2 = [100,20,60,90,40,30,10]\n",
    "BubleSort(list2)"
   ]
  },
  {
   "cell_type": "code",
   "execution_count": 6,
   "id": "26e9e511",
   "metadata": {},
   "outputs": [
    {
     "name": "stdout",
     "output_type": "stream",
     "text": [
      "21 25\n",
      "22 25\n",
      "24 25\n",
      "23 25\n",
      "26 27\n",
      "23 24\n",
      "[21, 22, 24, 23, 26, 23]\n"
     ]
    }
   ],
   "source": [
    "list = [25,21,22,24,23,27,26]\n",
    "size  = len(list) - 1\n",
    "sort = []\n",
    "for i in range(size):\n",
    "    for j in range(size - i):\n",
    "        if list[j] > list [j+1]:\n",
    "           temp = list[j]\n",
    "           list[j] = list[j+1]\n",
    "           list[j+1] = temp\n",
    "           sort.append(list[j])\n",
    "           print(list[j], list[j+1])\n",
    "\n",
    "print(sort)"
   ]
  },
  {
   "cell_type": "markdown",
   "id": "b726eb16",
   "metadata": {},
   "source": [
    "Insertion"
   ]
  },
  {
   "cell_type": "code",
   "execution_count": 7,
   "id": "fa4a693c",
   "metadata": {},
   "outputs": [
    {
     "name": "stdout",
     "output_type": "stream",
     "text": [
      "[21, 22, 23, 24, 25, 26, 27]\n"
     ]
    },
    {
     "data": {
      "text/plain": [
       "[11, 12, 16, 25, 57, 75, 89]"
      ]
     },
     "execution_count": 7,
     "metadata": {},
     "output_type": "execute_result"
    }
   ],
   "source": [
    "def insertSort(x):\n",
    "    for i in range(1, len(x)):\n",
    "        j = i - 1\n",
    "        next = x[i]\n",
    "        while (x[j] > next) and (j >= 0):\n",
    "            x[j+1] = x[j]\n",
    "            j -= 1\n",
    "        x[j+1] = next\n",
    "    return x\n",
    "list = [25,21,22,24,23,27,26]\n",
    "IList = [89, 12, 57, 16, 25, 11, 75]\n",
    "print(insertSort(list))\n",
    "insertSort(IList)"
   ]
  },
  {
   "cell_type": "markdown",
   "id": "bf02c0fd",
   "metadata": {},
   "source": [
    "Selection Sort"
   ]
  },
  {
   "cell_type": "code",
   "execution_count": 8,
   "id": "6f15dadc",
   "metadata": {},
   "outputs": [
    {
     "data": {
      "text/plain": [
       "[15, 19, 25, 34, 44, 70]"
      ]
     },
     "execution_count": 8,
     "metadata": {},
     "output_type": "execute_result"
    }
   ],
   "source": [
    "def SelectSort(x):\n",
    "    for i in range(len(x) - 1, 0, -1):\n",
    "        max_index = 0\n",
    "        for location in range(1, i + 1):\n",
    "            if x[location] > x[max_index]:\n",
    "                max_index = location\n",
    "        x[i], x[max_index] = x[max_index], x[i]\n",
    "    return x\n",
    "list = [70,15,25,19,34,44]\n",
    "Kasus_list = [89,12,57,16,25]\n",
    "SelectSort(list)"
   ]
  },
  {
   "cell_type": "markdown",
   "id": "b369fa9f",
   "metadata": {},
   "source": [
    "Linear Search"
   ]
  },
  {
   "cell_type": "code",
   "execution_count": 9,
   "id": "edb5b215",
   "metadata": {},
   "outputs": [
    {
     "data": {
      "text/plain": [
       "(10, True)"
      ]
     },
     "execution_count": 9,
     "metadata": {},
     "output_type": "execute_result"
    }
   ],
   "source": [
    "def LinearSearch(x,y):\n",
    "    size = len(x)\n",
    "    for i in range(size):\n",
    "        if x[i] == y:\n",
    "            return i+1, True\n",
    "    return False\n",
    "huruf = [\"y\",\"u\",\"i\",\"w\",\"o\",\"a\",'q',\"u\",\"j\",\"p\"]\n",
    "LinearSearch(huruf, \"p\")"
   ]
  },
  {
   "cell_type": "markdown",
   "id": "2a0edad2",
   "metadata": {},
   "source": [
    "Binary Search"
   ]
  },
  {
   "cell_type": "code",
   "execution_count": 10,
   "id": "c43cf1e7",
   "metadata": {},
   "outputs": [
    {
     "name": "stdout",
     "output_type": "stream",
     "text": [
      "True\n",
      "False\n",
      "['a', 'i', 'j', 'o', 'p', 'q', 'u', 'u', 'w', 'y']\n",
      "True\n"
     ]
    }
   ],
   "source": [
    "def BinarySort(x,y):\n",
    "    first = 0\n",
    "    last = len(x) - 1\n",
    "    found = False\n",
    "    while first <= last and not found:\n",
    "        midpoint = (first + last) // 2\n",
    "        if x[midpoint] == y:\n",
    "            found = True\n",
    "        else:\n",
    "            if y < x[midpoint]:\n",
    "                last = midpoint - 1\n",
    "            else:\n",
    "                first = midpoint+1\n",
    "    return found\n",
    "list = [12,33,11,99,22,25,55,90]\n",
    "sorted_list = SelectSort(list)\n",
    "print(BinarySort(sorted_list, 12))\n",
    "print(BinarySort(sorted_list, 91))\n",
    "# Binary - Latihan\n",
    "huruf = [\"y\",\"u\",\"i\",\"w\",\"o\",\"a\",'q',\"u\",\"j\",\"p\"]\n",
    "Str_sort = SelectSort(huruf)\n",
    "print(Str_sort)\n",
    "print(BinarySort(Str_sort, \"a\"))"
   ]
  },
  {
   "cell_type": "markdown",
   "id": "6d690fa1",
   "metadata": {},
   "source": [
    "Interpolation Search"
   ]
  },
  {
   "cell_type": "code",
   "execution_count": 14,
   "id": "2d1e4546",
   "metadata": {},
   "outputs": [
    {
     "name": "stdout",
     "output_type": "stream",
     "text": [
      "True\n",
      "False\n"
     ]
    }
   ],
   "source": [
    "def IntPolsearch(list,x):\n",
    "    idx0 = 0\n",
    "    idxn = (len(list) - 1)\n",
    "    found = False\n",
    "    while idx0 <= idxn and x >= list[idx0] and x <= list[idxn]:\n",
    "# Find the mid point\n",
    "        mid = idx0 +int(((float(idxn - idx0)/( list[idxn] - list[idx0])) * ( x - list[idx0])))\n",
    "# Compare the value at mid point with search value\n",
    "        if list[mid] == x:\n",
    "            found = True\n",
    "            return found\n",
    "        if list[mid] < x:\n",
    "            idx0 = mid + 1\n",
    "    return found\n",
    "list = [12,13,11,99,22,55,90]\n",
    "Slist = BubleSort(list)\n",
    "print(IntPolsearch(list, 12))\n",
    "print(IntPolsearch(list, 91))"
   ]
  }
 ],
 "metadata": {
  "kernelspec": {
   "display_name": "Python 3",
   "language": "python",
   "name": "python3"
  },
  "language_info": {
   "codemirror_mode": {
    "name": "ipython",
    "version": 3
   },
   "file_extension": ".py",
   "mimetype": "text/x-python",
   "name": "python",
   "nbconvert_exporter": "python",
   "pygments_lexer": "ipython3",
   "version": "3.13.7"
  }
 },
 "nbformat": 4,
 "nbformat_minor": 5
}
