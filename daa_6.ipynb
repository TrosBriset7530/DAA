{
 "cells": [
  {
   "cell_type": "markdown",
   "id": "7ce598ce",
   "metadata": {},
   "source": [
    "DP Fibonaci"
   ]
  },
  {
   "cell_type": "code",
   "execution_count": 22,
   "id": "a62ae026",
   "metadata": {},
   "outputs": [
    {
     "name": "stdout",
     "output_type": "stream",
     "text": [
      "Fibo Sequence\n",
      "0\n",
      "1\n",
      "1\n",
      "2\n",
      "3\n",
      "Another One\n",
      "0\n",
      "1\n",
      "1\n",
      "2\n",
      "3\n"
     ]
    }
   ],
   "source": [
    "def fibo(n):\n",
    "    if n == 1 or n == 2:\n",
    "        return 1\n",
    "    if n < 0:\n",
    "        return \"Error\"\n",
    "    x = [0,1]\n",
    "    for i in range(2,n):\n",
    "        y = x[i - 1] + x[i - 2]\n",
    "        x.append(y) \n",
    "    for i in x:\n",
    "        print(i) \n",
    "def recur_fibo(n):\n",
    "    if n <= 1:\n",
    "        return n\n",
    "    else:\n",
    "        return (recur_fibo(n-1) + recur_fibo(n-2))\n",
    "\n",
    "nterms = 5\n",
    "if nterms < 1:\n",
    "    print(\"error\")\n",
    "else:\n",
    "    print(\"Fibo Sequence\")\n",
    "    for i in range(nterms):\n",
    "        print(recur_fibo(i))\n",
    "print('Another One')\n",
    "inp = 0\n",
    "inp = int(input(\"How Many Term: \"))\n",
    "fibo(inp)"
   ]
  },
  {
   "cell_type": "code",
   "execution_count": 6,
   "id": "8d3ed0df",
   "metadata": {},
   "outputs": [],
   "source": [
    "# import\n",
    "import matplotlib; import matplotlib.pyplot as plt\n",
    "import random; import time;import itertools\n"
   ]
  },
  {
   "cell_type": "code",
   "execution_count": 27,
   "id": "85088c37",
   "metadata": {},
   "outputs": [
    {
     "data": {
      "text/plain": [
       "500.0"
      ]
     },
     "execution_count": 27,
     "metadata": {},
     "output_type": "execute_result"
    }
   ],
   "source": [
    "def exact_TSP(cities):\n",
    "    \"generate all posible tours of the cities and choose the shortest one.\"\n",
    "    return shortest(alltours(cities))\n",
    "def shortest(tours):\n",
    "    \"Return the tour with the minimum total distance.\"\n",
    "    return min(tours, key=total_distance)\n",
    "def total_distance(tour):\n",
    "    return sum(distance(tour[i], tour[i-1])for i in range(len(tour)))\n",
    "def distance(a,b):\n",
    "    return abs(a - b)\n",
    "alltours = itertools.permutations\n",
    "cities = {1,2,3}\n",
    "list(alltours(cities))\n",
    "city = complex\n",
    "a = city(300,0)\n",
    "b = city(0,400)\n",
    "distance(a,b)\n"
   ]
  },
  {
   "cell_type": "code",
   "execution_count": 37,
   "id": "88e0abac",
   "metadata": {},
   "outputs": [
    {
     "data": {
      "text/plain": [
       "{(151+70j),\n",
       " (252+365j),\n",
       " (303+506j),\n",
       " (498+96j),\n",
       " (54+361j),\n",
       " (551+542j),\n",
       " (684+435j),\n",
       " (800+430j)}"
      ]
     },
     "execution_count": 37,
     "metadata": {},
     "output_type": "execute_result"
    }
   ],
   "source": [
    "city = complex\n",
    "def cities(n):\n",
    "    return set(city(random.randrange(10, 890), random.randrange(10, 590)) for c in range(n))\n",
    "random.seed('seed')\n",
    "cities8,cities10,cities100,cities1000 = cities(8),cities(10),cities(100),cities(1000) \n",
    "cities8"
   ]
  }
 ],
 "metadata": {
  "kernelspec": {
   "display_name": "Python 3",
   "language": "python",
   "name": "python3"
  },
  "language_info": {
   "codemirror_mode": {
    "name": "ipython",
    "version": 3
   },
   "file_extension": ".py",
   "mimetype": "text/x-python",
   "name": "python",
   "nbconvert_exporter": "python",
   "pygments_lexer": "ipython3",
   "version": "3.13.7"
  }
 },
 "nbformat": 4,
 "nbformat_minor": 5
}
